{
 "cells": [
  {
   "cell_type": "markdown",
   "metadata": {},
   "source": [
    "<center><img src=\"https://github.com/vainero/Files/blob/main/Stock.gif?raw=true\"></center>\n",
    "<h1 style=\"color:#d16969; font-style:italic; font-family:JetBrains Mono; font-weight:normal; letter-spacing: 2px;\"> <center>Thanks for visiting my notebook!</center> </h1>\n",
    "\n",
    "# <p style=\"font-family:JetBrains Mono; font-weight:normal; letter-spacing: 2px; color:#145f19; font-size:100%; text-align:center;padding: 0px; border-bottom: 3px solid #145f19\">Content</p>\n",
    "<a href=\"https://machinelearningknowledge.ai/keras-lstm-layer-explained-for-beginners-with-example/\"><img src=\"https://github.com/vainero/Files/blob/main/LSTM_logo.png?raw=true\" width=\"15%\" height=\"10%\" align=\"right\" /></a>\n",
    "\n",
    "\n",
    "* In this notebook, we will focus on the **[Long Short-Term Memory (LSTM)](https://keras.io/api/layers/recurrent_layers/lstm/)** layer model in **[Keras](https://keras.io/guides/working_with_rnns/)** to predict if the stock will go up or down.\n",
    "\n",
    "* Historical daliy **[Netflix (NFLX)](https://www.kaggle.com/datasets/meetnagadia/netflix-stock-price-data-set-20022022)** stock price was collected from Yahoo Finance."
   ]
  },
  {
   "cell_type": "markdown",
   "metadata": {},
   "source": [
    "# <p style=\"font-family:JetBrains Mono; font-weight:normal; letter-spacing: 2px; color:#145f19; font-size:100%; text-align:center;padding: 0px; border-bottom: 3px solid #145f19\">Import Libraries</p>"
   ]
  },
  {
   "cell_type": "code",
   "execution_count": null,
   "metadata": {
    "execution": {
     "iopub.execute_input": "2023-01-10T14:45:58.921848Z",
     "iopub.status.busy": "2023-01-10T14:45:58.921082Z",
     "iopub.status.idle": "2023-01-10T14:46:04.068239Z",
     "shell.execute_reply": "2023-01-10T14:46:04.067275Z",
     "shell.execute_reply.started": "2023-01-10T14:45:58.921748Z"
    }
   },
   "outputs": [],
   "source": [
    "import pandas as pd\n",
    "import numpy as np\n",
    "import matplotlib.pyplot as plt\n",
    "from sklearn.preprocessing import MinMaxScaler\n",
    "from sklearn.metrics import mean_absolute_error\n",
    "from keras.models import Sequential, load_model\n",
    "from keras.layers import LSTM, Dense, Dropout\n",
    "%matplotlib inline\n",
    "\n",
    "import warnings\n",
    "warnings.filterwarnings(\"ignore\")  \n"
   ]
  },
  {
   "cell_type": "code",
   "execution_count": null,
   "metadata": {
    "execution": {
     "iopub.execute_input": "2023-01-10T14:46:04.070548Z",
     "iopub.status.busy": "2023-01-10T14:46:04.069938Z",
     "iopub.status.idle": "2023-01-10T14:46:04.079086Z",
     "shell.execute_reply": "2023-01-10T14:46:04.078191Z",
     "shell.execute_reply.started": "2023-01-10T14:46:04.070511Z"
    }
   },
   "outputs": [],
   "source": [
    "# Set colors\n",
    "class color:    \n",
    "    GREEN, RED = '\\033[92m', '\\033[91m'\n",
    "    BOLD, UNDERLINE, END = '\\033[1m', '\\033[4m', '\\033[0m'\n",
    "    GREEN_BOLD = GREEN + BOLD\n",
    "    RED_BOLD = RED + BOLD\n",
    "    GREEN_BOLD_UND = GREEN_BOLD + UNDERLINE   \n",
    "    \n",
    "rb, gb,  = color.RED_BOLD, color.GREEN_BOLD\n",
    "gbu, end = color.GREEN_BOLD_UND, color.END"
   ]
  },
  {
   "cell_type": "markdown",
   "metadata": {},
   "source": [
    "# <p style=\"font-family:JetBrains Mono; font-weight:normal; letter-spacing: 2px; color:#145f19; font-size:100%; text-align:center;padding: 0px; border-bottom: 3px solid #145f19\">Loading Data</p>"
   ]
  },
  {
   "cell_type": "code",
   "execution_count": null,
   "metadata": {
    "execution": {
     "iopub.execute_input": "2023-01-10T14:46:12.273467Z",
     "iopub.status.busy": "2023-01-10T14:46:12.272773Z",
     "iopub.status.idle": "2023-01-10T14:46:12.315508Z",
     "shell.execute_reply": "2023-01-10T14:46:12.313934Z",
     "shell.execute_reply.started": "2023-01-10T14:46:12.273430Z"
    }
   },
   "outputs": [],
   "source": [
    "data = pd.read_csv('../input/netflix-stock-price-data-set-20022022/NFLX.csv')\n",
    "data.head()"
   ]
  },
  {
   "cell_type": "markdown",
   "metadata": {},
   "source": [
    "<div style=\"border-radius:5px;\n",
    "            background-color:#ffffff;\n",
    "            border-style: solid;\n",
    "            border-color: #145f19;\n",
    "            letter-spacing:1px;             \n",
    "            font-size:16px;\n",
    "            padding: 10px;\">\n",
    "\n",
    "|<font color='#145f19'>Price</font> | <font color='#145f19'>Description</font> \n",
    "|:--- | :---|\n",
    "|<font color='darkred'>Open</font>| The price of the stock at the beginning of the trading day\n",
    "|<font color='darkred'>High</font>| The highest price of the stock on the trading day\n",
    "|<font color='darkred'>Low</font> | The lowest price of the stock on the trading day\n",
    "|<font color='darkred'>Close</font>| The last price of the stock before the trading day ends"
   ]
  },
  {
   "cell_type": "code",
   "execution_count": null,
   "metadata": {
    "execution": {
     "iopub.execute_input": "2023-01-10T14:46:15.182341Z",
     "iopub.status.busy": "2023-01-10T14:46:15.181963Z",
     "iopub.status.idle": "2023-01-10T14:46:15.207545Z",
     "shell.execute_reply": "2023-01-10T14:46:15.206427Z",
     "shell.execute_reply.started": "2023-01-10T14:46:15.182307Z"
    }
   },
   "outputs": [],
   "source": [
    "data.info()"
   ]
  },
  {
   "cell_type": "code",
   "execution_count": null,
   "metadata": {
    "execution": {
     "iopub.execute_input": "2023-01-10T14:46:17.224730Z",
     "iopub.status.busy": "2023-01-10T14:46:17.223525Z",
     "iopub.status.idle": "2023-01-10T14:46:17.234632Z",
     "shell.execute_reply": "2023-01-10T14:46:17.233669Z",
     "shell.execute_reply.started": "2023-01-10T14:46:17.224686Z"
    }
   },
   "outputs": [],
   "source": [
    "# Convert the type of \"Date\" column into date-time\n",
    "data[\"Date\"] = pd.to_datetime(data[\"Date\"])\n",
    "print (data.dtypes)"
   ]
  },
  {
   "cell_type": "code",
   "execution_count": null,
   "metadata": {
    "execution": {
     "iopub.execute_input": "2023-01-10T14:46:18.884500Z",
     "iopub.status.busy": "2023-01-10T14:46:18.884143Z",
     "iopub.status.idle": "2023-01-10T14:46:18.974660Z",
     "shell.execute_reply": "2023-01-10T14:46:18.973581Z",
     "shell.execute_reply.started": "2023-01-10T14:46:18.884470Z"
    }
   },
   "outputs": [],
   "source": [
    "# Add the \"Year\", 'Month' and \"Day\" columns\n",
    "data[\"Year\"] = data[\"Date\"].apply(lambda x : str(x)[:4])\n",
    "data[\"Month\"] = data[\"Date\"].apply(lambda x : str(x)[5:7])\n",
    "data[\"Day\"] = data[\"Date\"].apply(lambda x : str(x)[8:10])\n",
    "\n",
    "data.head(3)"
   ]
  },
  {
   "cell_type": "markdown",
   "metadata": {},
   "source": [
    "# <p style=\"font-family:JetBrains Mono; font-weight:normal; letter-spacing: 2px; color:#145f19; font-size:100%; text-align:center;padding: 0px; border-bottom: 3px solid #145f19\">Feature Extraction</p>"
   ]
  },
  {
   "cell_type": "code",
   "execution_count": null,
   "metadata": {
    "execution": {
     "iopub.execute_input": "2023-01-10T14:46:22.492416Z",
     "iopub.status.busy": "2023-01-10T14:46:22.491712Z",
     "iopub.status.idle": "2023-01-10T14:46:22.504292Z",
     "shell.execute_reply": "2023-01-10T14:46:22.502980Z",
     "shell.execute_reply.started": "2023-01-10T14:46:22.492379Z"
    }
   },
   "outputs": [],
   "source": [
    "# Print the number of trading days\n",
    "print(f'{rb}Total number of trading days: {end}{gbu}{data.shape[0]}{end}')\n",
    "print(f'{rb}Total number of fields: {end}{gbu}{data.shape[1]}{end}')\n",
    "print('\\n')\n",
    "\n",
    "# Check the Null and NA values\n",
    "print(f'{rb}Null values: {end}{gbu}{data.isnull().values.sum()}{end}')\n",
    "print(f'{rb}NA values: {end}{gbu}{data.isna().values.any()}{end}')"
   ]
  },
  {
   "cell_type": "markdown",
   "metadata": {},
   "source": [
    "* We will select from the dataset the **Open** column represents the starting price of the stock for a particular day. "
   ]
  },
  {
   "cell_type": "code",
   "execution_count": null,
   "metadata": {
    "execution": {
     "iopub.execute_input": "2023-01-10T14:46:40.184035Z",
     "iopub.status.busy": "2023-01-10T14:46:40.183648Z",
     "iopub.status.idle": "2023-01-10T14:46:40.189601Z",
     "shell.execute_reply": "2023-01-10T14:46:40.188404Z",
     "shell.execute_reply.started": "2023-01-10T14:46:40.184002Z"
    }
   },
   "outputs": [],
   "source": [
    "# Create a new dataframe with only the Open column and convert it into a NumPy array\n",
    "data = data['Open'].values\n",
    "\n",
    "# Reshape the data\n",
    "data = data.reshape(-1, 1) "
   ]
  },
  {
   "cell_type": "code",
   "execution_count": null,
   "metadata": {
    "execution": {
     "iopub.execute_input": "2023-01-10T14:46:43.744014Z",
     "iopub.status.busy": "2023-01-10T14:46:43.743610Z",
     "iopub.status.idle": "2023-01-10T14:46:43.749192Z",
     "shell.execute_reply": "2023-01-10T14:46:43.748270Z",
     "shell.execute_reply.started": "2023-01-10T14:46:43.743980Z"
    }
   },
   "outputs": [],
   "source": [
    "# Split the data into training and testing sets\n",
    "dataset_train = np.array(data[:int(data.shape[0]*0.8)])\n",
    "dataset_test = np.array(data[int(data.shape[0]*0.8):])"
   ]
  },
  {
   "cell_type": "markdown",
   "metadata": {},
   "source": [
    "* To produce the best-optimized results, we are required to scale the data. \n",
    "\n",
    "* For this task, we are leveraging scikit-learn library’s **MinMaxScaler()** for converting the input values between 0 to 1."
   ]
  },
  {
   "cell_type": "code",
   "execution_count": null,
   "metadata": {
    "execution": {
     "iopub.execute_input": "2023-01-10T14:46:58.283775Z",
     "iopub.status.busy": "2023-01-10T14:46:58.283388Z",
     "iopub.status.idle": "2023-01-10T14:46:58.291007Z",
     "shell.execute_reply": "2023-01-10T14:46:58.290027Z",
     "shell.execute_reply.started": "2023-01-10T14:46:58.283740Z"
    }
   },
   "outputs": [],
   "source": [
    "# Scale the data \n",
    "scaler = MinMaxScaler(feature_range=(0,1))\n",
    "\n",
    "dataset_train = scaler.fit_transform(dataset_train)\n",
    "dataset_test = scaler.transform(dataset_test)"
   ]
  },
  {
   "cell_type": "markdown",
   "metadata": {},
   "source": [
    "* We will create the helper function with 50 timesteps. In other words, for the features(x) we'll append the last 50 prices, and for the label(y) we'll append the next price.\n",
    "\n",
    "* After that we will convert it into a NumPy array."
   ]
  },
  {
   "cell_type": "code",
   "execution_count": null,
   "metadata": {
    "execution": {
     "iopub.execute_input": "2023-01-10T14:47:11.236667Z",
     "iopub.status.busy": "2023-01-10T14:47:11.236310Z",
     "iopub.status.idle": "2023-01-10T14:47:11.242720Z",
     "shell.execute_reply": "2023-01-10T14:47:11.241545Z",
     "shell.execute_reply.started": "2023-01-10T14:47:11.236635Z"
    }
   },
   "outputs": [],
   "source": [
    "# Create the function that will help us to create the datasets\n",
    "def create_dataset(df):\n",
    "    x = []\n",
    "    y = []\n",
    "    for i in range(50, df.shape[0]):\n",
    "        x.append(df[i-50:i, 0]) \n",
    "        y.append(df[i, 0]) \n",
    "    x = np.array(x) \n",
    "    y = np.array(y)\n",
    "    return x,y"
   ]
  },
  {
   "cell_type": "code",
   "execution_count": null,
   "metadata": {
    "execution": {
     "iopub.execute_input": "2023-01-10T14:47:12.702069Z",
     "iopub.status.busy": "2023-01-10T14:47:12.701679Z",
     "iopub.status.idle": "2023-01-10T14:47:12.715569Z",
     "shell.execute_reply": "2023-01-10T14:47:12.714434Z",
     "shell.execute_reply.started": "2023-01-10T14:47:12.702034Z"
    }
   },
   "outputs": [],
   "source": [
    "# Create the training and testing data by calling our function for each one\n",
    "x_train, y_train = create_dataset(dataset_train)\n",
    "x_test, y_test = create_dataset(dataset_test)"
   ]
  },
  {
   "cell_type": "code",
   "execution_count": null,
   "metadata": {
    "execution": {
     "iopub.execute_input": "2023-01-10T14:47:13.073939Z",
     "iopub.status.busy": "2023-01-10T14:47:13.073129Z",
     "iopub.status.idle": "2023-01-10T14:47:13.079122Z",
     "shell.execute_reply": "2023-01-10T14:47:13.077969Z",
     "shell.execute_reply.started": "2023-01-10T14:47:13.073878Z"
    }
   },
   "outputs": [],
   "source": [
    "# Reshape the data to make it a 3D array in order to use it in LSTM Layer\n",
    "x_train = np.reshape(x_train, (x_train.shape[0], x_train.shape[1], 1))\n",
    "x_test = np.reshape(x_test, (x_test.shape[0], x_test.shape[1], 1))"
   ]
  },
  {
   "cell_type": "markdown",
   "metadata": {},
   "source": [
    "# <p style=\"font-family:JetBrains Mono; font-weight:normal; letter-spacing: 2px; color:#145f19; font-size:100%; text-align:center;padding: 0px; border-bottom: 3px solid #145f19\">Building Model</p>\n",
    "* For the LSTM layer, we add **96 units** that represent the dimensionality of the output space. \n",
    "\n",
    "* The **return_sequences parameter** is set to **True** for returning the last output in output.\n",
    "\n",
    "* For the Dropout layers, we specify the percentage of layers is **20%** that should be dropped. \n",
    "\n",
    "* The next step is to add the Dense layer. "
   ]
  },
  {
   "cell_type": "code",
   "execution_count": null,
   "metadata": {
    "execution": {
     "iopub.execute_input": "2023-01-10T14:47:49.411083Z",
     "iopub.status.busy": "2023-01-10T14:47:49.410674Z",
     "iopub.status.idle": "2023-01-10T14:47:50.208686Z",
     "shell.execute_reply": "2023-01-10T14:47:50.207680Z",
     "shell.execute_reply.started": "2023-01-10T14:47:49.411048Z"
    }
   },
   "outputs": [],
   "source": [
    "model = Sequential()\n",
    "model.add(LSTM(units=96, return_sequences=True, input_shape=(x_train.shape[1], 1)))\n",
    "model.add(Dropout(0.2))\n",
    "model.add(LSTM(units=96, return_sequences=True))\n",
    "model.add(Dropout(0.2))\n",
    "model.add(LSTM(units=96, return_sequences=True))\n",
    "model.add(Dropout(0.2))\n",
    "model.add(LSTM(units=96))\n",
    "model.add(Dropout(0.2))\n",
    "model.add(Dense(units=1)) "
   ]
  },
  {
   "cell_type": "code",
   "execution_count": null,
   "metadata": {
    "execution": {
     "iopub.execute_input": "2023-01-10T14:48:13.341358Z",
     "iopub.status.busy": "2023-01-10T14:48:13.340642Z",
     "iopub.status.idle": "2023-01-10T14:48:13.348286Z",
     "shell.execute_reply": "2023-01-10T14:48:13.347135Z",
     "shell.execute_reply.started": "2023-01-10T14:48:13.341319Z"
    }
   },
   "outputs": [],
   "source": [
    "# Summary of the model\n",
    "model.summary()"
   ]
  },
  {
   "cell_type": "code",
   "execution_count": null,
   "metadata": {
    "execution": {
     "iopub.execute_input": "2023-01-10T14:48:16.627637Z",
     "iopub.status.busy": "2023-01-10T14:48:16.627272Z",
     "iopub.status.idle": "2023-01-10T14:48:16.632719Z",
     "shell.execute_reply": "2023-01-10T14:48:16.631798Z",
     "shell.execute_reply.started": "2023-01-10T14:48:16.627604Z"
    }
   },
   "outputs": [],
   "source": [
    "# Reshape the feature for the LSTM layer \n",
    "x_train = np.reshape(x_train, (x_train.shape[0], x_train.shape[1], 1)) # for expecting 3 dimentions, not 2\n",
    "x_test = np.reshape(x_test, (x_test.shape[0], x_test.shape[1], 1)) "
   ]
  },
  {
   "cell_type": "markdown",
   "metadata": {},
   "source": [
    "* We will compile the model with the help of **adam** optimizer.\n",
    "\n",
    "* The error is computed using **mean_squared_error**."
   ]
  },
  {
   "cell_type": "code",
   "execution_count": null,
   "metadata": {
    "execution": {
     "iopub.execute_input": "2023-01-10T14:48:26.028473Z",
     "iopub.status.busy": "2023-01-10T14:48:26.028107Z",
     "iopub.status.idle": "2023-01-10T14:48:26.042623Z",
     "shell.execute_reply": "2023-01-10T14:48:26.041660Z",
     "shell.execute_reply.started": "2023-01-10T14:48:26.028440Z"
    }
   },
   "outputs": [],
   "source": [
    "# Compile the model\n",
    "model.compile(loss='mean_squared_error', optimizer='adam') "
   ]
  },
  {
   "cell_type": "markdown",
   "metadata": {},
   "source": [
    "# <p style=\"font-family:JetBrains Mono; font-weight:normal; letter-spacing: 2px; color:#145f19; font-size:100%; text-align:center;padding: 0px; border-bottom: 3px solid #145f19\">Training Model</p>\n",
    "* With our model and data constructed, we can now train the model."
   ]
  },
  {
   "cell_type": "code",
   "execution_count": null,
   "metadata": {
    "execution": {
     "iopub.execute_input": "2023-01-10T14:49:10.525654Z",
     "iopub.status.busy": "2023-01-10T14:49:10.525070Z",
     "iopub.status.idle": "2023-01-10T14:50:09.330515Z",
     "shell.execute_reply": "2023-01-10T14:50:09.329541Z",
     "shell.execute_reply.started": "2023-01-10T14:49:10.525618Z"
    }
   },
   "outputs": [],
   "source": [
    "# Define modifiable training hyperparameters\n",
    "epochs = 40\n",
    "batch_size = 64 \n",
    "\n",
    "# Save the model and start the training\n",
    "model.fit(x_train, y_train, epochs=epochs, batch_size=batch_size)\n",
    "model.save('stock_prediction')"
   ]
  },
  {
   "cell_type": "code",
   "execution_count": null,
   "metadata": {
    "execution": {
     "iopub.execute_input": "2023-01-10T14:51:02.903625Z",
     "iopub.status.busy": "2023-01-10T14:51:02.903253Z",
     "iopub.status.idle": "2023-01-10T14:51:09.492543Z",
     "shell.execute_reply": "2023-01-10T14:51:09.491533Z",
     "shell.execute_reply.started": "2023-01-10T14:51:02.903594Z"
    }
   },
   "outputs": [],
   "source": [
    "# Load the model\n",
    "model = load_model('stock_prediction')"
   ]
  },
  {
   "cell_type": "markdown",
   "metadata": {},
   "source": [
    "# <p style=\"font-family:JetBrains Mono; font-weight:normal; letter-spacing: 2px; color:#145f19; font-size:100%; text-align:center;padding: 0px; border-bottom: 3px solid #145f19\">Prediction Model</p>"
   ]
  },
  {
   "cell_type": "code",
   "execution_count": null,
   "metadata": {
    "execution": {
     "iopub.execute_input": "2023-01-10T14:52:06.408093Z",
     "iopub.status.busy": "2023-01-10T14:52:06.407683Z",
     "iopub.status.idle": "2023-01-10T14:52:07.558400Z",
     "shell.execute_reply": "2023-01-10T14:52:07.557302Z",
     "shell.execute_reply.started": "2023-01-10T14:52:06.408057Z"
    }
   },
   "outputs": [],
   "source": [
    "predictions = model.predict(x_test)\n",
    "predictions = scaler.inverse_transform(predictions)\n",
    "y_test_scaled = scaler.inverse_transform(y_test.reshape(-1, 1)) "
   ]
  },
  {
   "cell_type": "markdown",
   "metadata": {},
   "source": [
    "# <p style=\"font-family:JetBrains Mono; font-weight:normal; letter-spacing: 2px; color:#145f19; font-size:100%; text-align:center;padding: 0px; border-bottom: 3px solid #145f19\">Plotting Results</p>"
   ]
  },
  {
   "cell_type": "code",
   "execution_count": null,
   "metadata": {
    "execution": {
     "iopub.execute_input": "2023-01-10T14:52:10.592300Z",
     "iopub.status.busy": "2023-01-10T14:52:10.591605Z",
     "iopub.status.idle": "2023-01-10T14:52:10.902375Z",
     "shell.execute_reply": "2023-01-10T14:52:10.901427Z",
     "shell.execute_reply.started": "2023-01-10T14:52:10.592265Z"
    }
   },
   "outputs": [],
   "source": [
    "plt.style.use('dark_background')\n",
    "fig, ax = plt.subplots(figsize=(20,15))\n",
    "ax.set_facecolor('#000035')\n",
    "ax.plot(y_test_scaled, color='fuchsia', linewidth=2, label='Original price')\n",
    "plt.plot(predictions, color='greenyellow', linewidth=2.5, label='Predicted price')\n",
    "plt.title('Netflix Stock Price Prediction')\n",
    "plt.legend(); "
   ]
  },
  {
   "cell_type": "markdown",
   "metadata": {},
   "source": [
    "<h3 style=\"color:#d16969; font-style:italic; font-family:JetBrains Mono; font-weight:normal; letter-spacing: 2px;\"> <center>Thanks for visiting my notebook!</center> </h3>\n",
    "\n",
    "<br><center><img src='https://media.giphy.com/media/hpXdHPfFI5wTABdDx9/giphy.gif' \n",
    "     height=30px width=160px /></center></br>     \n",
    "     \n",
    "<h1 style=\"color:#145f19; font-style:italic; font-family:JetBrains Mono; font-weight:normal; letter-spacing: 2px;\"> <center>👍 If you find this notebook useful, please support with an upvote 👍</center> </h1>\n"
   ]
  },
  {
   "cell_type": "code",
   "execution_count": null,
   "metadata": {},
   "outputs": [],
   "source": []
  },
  {
   "cell_type": "code",
   "execution_count": null,
   "metadata": {},
   "outputs": [],
   "source": []
  },
  {
   "cell_type": "code",
   "execution_count": null,
   "metadata": {},
   "outputs": [],
   "source": []
  },
  {
   "cell_type": "code",
   "execution_count": null,
   "metadata": {},
   "outputs": [],
   "source": []
  },
  {
   "cell_type": "code",
   "execution_count": null,
   "metadata": {},
   "outputs": [],
   "source": []
  }
 ],
 "metadata": {
  "kernelspec": {
   "display_name": "Python 3",
   "language": "python",
   "name": "python3"
  },
  "language_info": {
   "codemirror_mode": {
    "name": "ipython",
    "version": 3
   },
   "file_extension": ".py",
   "mimetype": "text/x-python",
   "name": "python",
   "nbconvert_exporter": "python",
   "pygments_lexer": "ipython3",
   "version": "3.8.8"
  }
 },
 "nbformat": 4,
 "nbformat_minor": 4
}
